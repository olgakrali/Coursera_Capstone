{
 "cells": [
  {
   "cell_type": "markdown",
   "metadata": {},
   "source": [
    "# Data Science Capstone Final Project:\n",
    "### Exploring the surrounding areas of schools in the capital of Sweden, Stockholm"
   ]
  },
  {
   "cell_type": "markdown",
   "metadata": {},
   "source": [
    "#### Introduction/Business Problem"
   ]
  },
  {
   "cell_type": "markdown",
   "metadata": {},
   "source": [
    "An area with schools can be appealing to many businesses that not only want to expand, but also increase their profits. After a long day at school, the students might decide to go for food with friends or family. A school with a lot of students for instance, could be a target for building a new bakery or a restaurant. \n",
    "\n",
    "At the same time, getting information about what exists around a school can be signifant for parents, who want to choose a school for their kids that provides a lot of places where their kids and themselves can relax before or after school.\n",
    "\n",
    "My goal with this project is to find which are the most common venues next to schools around Stockholm and if there is any correlation with the number of enrolled students. Furthermore, I would like to investigate if there is a specific pattern with the most common venues that are somehow are related to presence of schools. "
   ]
  },
  {
   "cell_type": "markdown",
   "metadata": {},
   "source": [
    "#### Data\n",
    "The school data were provided from an open source data portal: https://dataportalen.stockholm.se/. They were in a form of a dbf database, so the simpledbf library was utilized so that to create a pandas DataFrame for further analysis. "
   ]
  },
  {
   "cell_type": "code",
   "execution_count": 2,
   "metadata": {},
   "outputs": [],
   "source": [
    "import pandas as pd\n",
    "from simpledbf import Dbf5\n"
   ]
  },
  {
   "cell_type": "code",
   "execution_count": 3,
   "metadata": {},
   "outputs": [],
   "source": [
    "dbf = Dbf5('alla_skolor_1920_elevantal.dbf')\n",
    "\n",
    "df = dbf.to_dataframe()"
   ]
  },
  {
   "cell_type": "code",
   "execution_count": 4,
   "metadata": {},
   "outputs": [
    {
     "data": {
      "text/html": [
       "<div>\n",
       "<style scoped>\n",
       "    .dataframe tbody tr th:only-of-type {\n",
       "        vertical-align: middle;\n",
       "    }\n",
       "\n",
       "    .dataframe tbody tr th {\n",
       "        vertical-align: top;\n",
       "    }\n",
       "\n",
       "    .dataframe thead th {\n",
       "        text-align: right;\n",
       "    }\n",
       "</style>\n",
       "<table border=\"1\" class=\"dataframe\">\n",
       "  <thead>\n",
       "    <tr style=\"text-align: right;\">\n",
       "      <th></th>\n",
       "      <th>SDO</th>\n",
       "      <th>REGI</th>\n",
       "      <th>SKOLENHETS</th>\n",
       "      <th>Skolenhe_1</th>\n",
       "      <th>SKOLA</th>\n",
       "      <th>Arskurs</th>\n",
       "      <th>Elevanal19</th>\n",
       "      <th>Särskola</th>\n",
       "      <th>Särskola_</th>\n",
       "      <th>X_North</th>\n",
       "      <th>Y_East</th>\n",
       "      <th>NOTE</th>\n",
       "      <th>ADRESS</th>\n",
       "      <th>POSTNR</th>\n",
       "      <th>POSTORT</th>\n",
       "      <th>BESÖKSADR</th>\n",
       "      <th>Kommentar</th>\n",
       "    </tr>\n",
       "  </thead>\n",
       "  <tbody>\n",
       "    <tr>\n",
       "      <th>0</th>\n",
       "      <td>Bromma</td>\n",
       "      <td>Kommunala grundskolor</td>\n",
       "      <td>44673074</td>\n",
       "      <td>Abrahamsbergsskolan</td>\n",
       "      <td>Abrahamsbergsskolan</td>\n",
       "      <td>F-9</td>\n",
       "      <td>678</td>\n",
       "      <td>0</td>\n",
       "      <td>0</td>\n",
       "      <td>6579984.0</td>\n",
       "      <td>147176.0</td>\n",
       "      <td>NaN</td>\n",
       "      <td>Gustav III:s väg 2-10</td>\n",
       "      <td>16830</td>\n",
       "      <td>BROMMA</td>\n",
       "      <td>NaN</td>\n",
       "      <td>NaN</td>\n",
       "    </tr>\n",
       "    <tr>\n",
       "      <th>1</th>\n",
       "      <td>Norrmalm</td>\n",
       "      <td>Kommunala grundskolor</td>\n",
       "      <td>99648792</td>\n",
       "      <td>Adolf Fredriks musikklasser</td>\n",
       "      <td>Adolf Fredriks Musikklasser</td>\n",
       "      <td>4-9</td>\n",
       "      <td>1120</td>\n",
       "      <td>0</td>\n",
       "      <td>0</td>\n",
       "      <td>6580259.0</td>\n",
       "      <td>152895.0</td>\n",
       "      <td>NaN</td>\n",
       "      <td>Box 6267</td>\n",
       "      <td>10231</td>\n",
       "      <td>STOCKHOLM</td>\n",
       "      <td>NaN</td>\n",
       "      <td>NaN</td>\n",
       "    </tr>\n",
       "    <tr>\n",
       "      <th>2</th>\n",
       "      <td>Bromma</td>\n",
       "      <td>Kommunala grundskolor</td>\n",
       "      <td>41285467</td>\n",
       "      <td>Adolfsbergsskolan</td>\n",
       "      <td>Adolfsbergsskolan</td>\n",
       "      <td>F-1</td>\n",
       "      <td>132</td>\n",
       "      <td>0</td>\n",
       "      <td>0</td>\n",
       "      <td>6582511.0</td>\n",
       "      <td>147360.0</td>\n",
       "      <td>NaN</td>\n",
       "      <td>Gårdsfogdevägen 18 B</td>\n",
       "      <td>16867</td>\n",
       "      <td>BROMMA</td>\n",
       "      <td>NaN</td>\n",
       "      <td>NaN</td>\n",
       "    </tr>\n",
       "    <tr>\n",
       "      <th>3</th>\n",
       "      <td>Rinkeby-Kista</td>\n",
       "      <td>Fristående grundskolor</td>\n",
       "      <td>17526606</td>\n",
       "      <td>Akademiska Skolan i Kista</td>\n",
       "      <td>Akademiska skolan i Kista-Husby</td>\n",
       "      <td>F-6</td>\n",
       "      <td>35</td>\n",
       "      <td>0</td>\n",
       "      <td>0</td>\n",
       "      <td>6588485.0</td>\n",
       "      <td>145913.0</td>\n",
       "      <td>NaN</td>\n",
       "      <td>Lofotengatan 32-34</td>\n",
       "      <td>16433</td>\n",
       "      <td>KISTA</td>\n",
       "      <td>NaN</td>\n",
       "      <td>NaN</td>\n",
       "    </tr>\n",
       "    <tr>\n",
       "      <th>4</th>\n",
       "      <td>Rinkeby-Kista</td>\n",
       "      <td>Kommunala grundskolor</td>\n",
       "      <td>37796564</td>\n",
       "      <td>Akalla grundskola F-9</td>\n",
       "      <td>Akalla grundskola F-9</td>\n",
       "      <td>F-9</td>\n",
       "      <td>498</td>\n",
       "      <td>1</td>\n",
       "      <td>0</td>\n",
       "      <td>6588999.0</td>\n",
       "      <td>144905.0</td>\n",
       "      <td>NaN</td>\n",
       "      <td>Mariehamnsgatan 3-5</td>\n",
       "      <td>16471</td>\n",
       "      <td>KISTA</td>\n",
       "      <td>NaN</td>\n",
       "      <td>NaN</td>\n",
       "    </tr>\n",
       "  </tbody>\n",
       "</table>\n",
       "</div>"
      ],
      "text/plain": [
       "             SDO                    REGI SKOLENHETS  \\\n",
       "0         Bromma   Kommunala grundskolor   44673074   \n",
       "1       Norrmalm   Kommunala grundskolor   99648792   \n",
       "2         Bromma   Kommunala grundskolor   41285467   \n",
       "3  Rinkeby-Kista  Fristående grundskolor   17526606   \n",
       "4  Rinkeby-Kista   Kommunala grundskolor   37796564   \n",
       "\n",
       "                    Skolenhe_1                            SKOLA Arskurs  \\\n",
       "0          Abrahamsbergsskolan              Abrahamsbergsskolan     F-9   \n",
       "1  Adolf Fredriks musikklasser      Adolf Fredriks Musikklasser     4-9   \n",
       "2            Adolfsbergsskolan                Adolfsbergsskolan     F-1   \n",
       "3    Akademiska Skolan i Kista  Akademiska skolan i Kista-Husby     F-6   \n",
       "4        Akalla grundskola F-9            Akalla grundskola F-9     F-9   \n",
       "\n",
       "   Elevanal19  Särskola  Särskola_    X_North    Y_East NOTE  \\\n",
       "0         678         0          0  6579984.0  147176.0  NaN   \n",
       "1        1120         0          0  6580259.0  152895.0  NaN   \n",
       "2         132         0          0  6582511.0  147360.0  NaN   \n",
       "3          35         0          0  6588485.0  145913.0  NaN   \n",
       "4         498         1          0  6588999.0  144905.0  NaN   \n",
       "\n",
       "                  ADRESS  POSTNR    POSTORT  BESÖKSADR Kommentar  \n",
       "0  Gustav III:s väg 2-10   16830     BROMMA        NaN       NaN  \n",
       "1               Box 6267   10231  STOCKHOLM        NaN       NaN  \n",
       "2   Gårdsfogdevägen 18 B   16867     BROMMA        NaN       NaN  \n",
       "3     Lofotengatan 32-34   16433      KISTA        NaN       NaN  \n",
       "4    Mariehamnsgatan 3-5   16471      KISTA        NaN       NaN  "
      ]
     },
     "execution_count": 4,
     "metadata": {},
     "output_type": "execute_result"
    }
   ],
   "source": [
    "df.head()"
   ]
  },
  {
   "cell_type": "code",
   "execution_count": 5,
   "metadata": {},
   "outputs": [
    {
     "data": {
      "text/plain": [
       "(375, 17)"
      ]
     },
     "execution_count": 5,
     "metadata": {},
     "output_type": "execute_result"
    }
   ],
   "source": [
    "df.shape"
   ]
  },
  {
   "cell_type": "code",
   "execution_count": 6,
   "metadata": {},
   "outputs": [
    {
     "data": {
      "text/plain": [
       "372"
      ]
     },
     "execution_count": 6,
     "metadata": {},
     "output_type": "execute_result"
    }
   ],
   "source": [
    "len(df.SKOLA.unique())"
   ]
  },
  {
   "cell_type": "markdown",
   "metadata": {},
   "source": [
    "The dataFrame has 375 entries (372 different schools) and 17 features (some features will be filtered out later). \n",
    "1. The most important ones are SDO- which is the region where the school is located, \n",
    "2. REGI- if the school is municipal or stand-alone,\n",
    "3. SKOLA-The name of the school, \n",
    "4. Årskurs- the school grade that the data come from, \n",
    "5. Elevanal19- the number of enrolled students for 2019-20, \n",
    "6. X_North & Y_East- the coordinates in SWEREF99 1800 coordinate system (Transformation to WGS84 standard coordination system is necessary to work both with the Foursquare API and Folium library)"
   ]
  }
 ],
 "metadata": {
  "kernelspec": {
   "display_name": "stenv",
   "language": "python",
   "name": "std_env"
  },
  "language_info": {
   "codemirror_mode": {
    "name": "ipython",
    "version": 3
   },
   "file_extension": ".py",
   "mimetype": "text/x-python",
   "name": "python",
   "nbconvert_exporter": "python",
   "pygments_lexer": "ipython3",
   "version": "3.6.10"
  }
 },
 "nbformat": 4,
 "nbformat_minor": 2
}
